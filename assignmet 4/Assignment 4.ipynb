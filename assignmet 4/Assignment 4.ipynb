{
 "cells": [
  {
   "cell_type": "code",
   "execution_count": 12,
   "id": "70224da4",
   "metadata": {},
   "outputs": [
    {
     "name": "stdout",
     "output_type": "stream",
     "text": [
      "*****Calculator******\n",
      "Choose your operator + for Add\n",
      " - for Subtaract\n",
      " * for multiply\n",
      " ^ for Power\n",
      " / for Division\n",
      "\n",
      "^\n",
      "Enter A number:\n",
      "3\n",
      "Enter A number:\n",
      "3\n",
      "The Result of 3 Power 3 = 27\n"
     ]
    }
   ],
   "source": [
    "print(\"for folk practicing\")\n",
    "print(\"*****Calculator******\")\n",
    "print(\"Choose your operator + for Add\\n - for Subtaract\\n * for multiply\\n ^ for Power\\n / for Division\\n\")\n",
    "operator = input()\n",
    "num0 = int(input(\"Enter A number:\\n\"))\n",
    "num00 = int(input(\"Enter A number:\\n\"))\n",
    "\n",
    "if operator == '+':\n",
    "    print(num0 + num00)\n",
    "\n",
    "if operator == '-':\n",
    "    print(num0 - num00)\n",
    "\n",
    "if operator == '*':\n",
    "    print(num0 * num00)\n",
    "\n",
    "if operator == '/':\n",
    "    print(num0 / num00)\n",
    "\n",
    "if operator == '^':\n",
    "    power = 1\n",
    "\n",
    "    for i in range(1, num00 + 1):\n",
    "      power = power * num0\n",
    "\n",
    "    print(\"The Result of {0} Power {1} = {2}\".format(num0, num00, power))\n",
    "\n"
   ]
  },
  {
   "cell_type": "code",
   "execution_count": 3,
   "id": "5c2fb686",
   "metadata": {},
   "outputs": [
    {
     "name": "stdout",
     "output_type": "stream",
     "text": [
      "3\n",
      "4\n",
      "6\n",
      "7\n",
      "4\n",
      "9\n",
      "10\n",
      "12\n",
      "33\n"
     ]
    }
   ],
   "source": [
    "list9=[3,4,6,\"usama\",7,4,\"Jawan\",9,10,\"SIR Ali Mughal\",12,33]\n",
    "for item in list9:\n",
    "    if str(item).isnumeric():\n",
    "        print(item)"
   ]
  },
  {
   "cell_type": "code",
   "execution_count": 5,
   "id": "e9b13a52",
   "metadata": {},
   "outputs": [
    {
     "name": "stdout",
     "output_type": "stream",
     "text": [
      "{'Usama': 10, 'Python': 20}\n",
      "{'radhe is missing since 23rd march 2012': 10, 'Python': 20, 'Jawan': 30}\n"
     ]
    }
   ],
   "source": [
    "dict = {'Usama':10, 'Python':20}\n",
    "print(dict)\n",
    "dict.update({'Jawan':30})\n",
    "print(dict)"
   ]
  },
  {
   "cell_type": "code",
   "execution_count": 6,
   "id": "042ffc97",
   "metadata": {},
   "outputs": [
    {
     "name": "stdout",
     "output_type": "stream",
     "text": [
      "60\n"
     ]
    }
   ],
   "source": [
    "dictionaryy={'Usama':10, 'Hassan':30, 'Harry':20,}\n",
    "print(sum(dictionaryy.values()))\n"
   ]
  },
  {
   "cell_type": "code",
   "execution_count": 7,
   "id": "8e439d3b",
   "metadata": {},
   "outputs": [
    {
     "name": "stdout",
     "output_type": "stream",
     "text": [
      "23 44 24 14 "
     ]
    }
   ],
   "source": [
    "listt=[23,44,23,34,24,44,56,45,35,24,14,14]\n",
    "listt2=[]\n",
    "for i in listt:\n",
    "    if i not in listt2:\n",
    "        listt2.append(i)\n",
    "    else:\n",
    "        print(i,end=' ')"
   ]
  },
  {
   "cell_type": "code",
   "execution_count": 11,
   "id": "ec031077",
   "metadata": {},
   "outputs": [
    {
     "name": "stdout",
     "output_type": "stream",
     "text": [
      "My Dictionary :  {'Usama': 3, 'Humaiz': 5, 'Hassan': 6, 'Arslan': 9}\n",
      "Enter a key:\n",
      "Usama\n",
      "Usama is Present.\n",
      "\n"
     ]
    }
   ],
   "source": [
    "dict = {'Usama':3,'Humaiz':5,'Hassan':6,'Ars':9}\n",
    "print(\"My Dictionary : \",dict)\n",
    "key = input(\"Enter a key:\\n\")\n",
    "if key in dict:\n",
    "   print(key,\"is Present.\\n\")\n",
    "else:\n",
    "   print(key, \" is not Present.\\n\")"
   ]
  },
  {
   "cell_type": "code",
   "execution_count": null,
   "id": "a17bfd95",
   "metadata": {},
   "outputs": [],
   "source": []
  }
 ],
 "metadata": {
  "kernelspec": {
   "display_name": "Python 3",
   "language": "python",
   "name": "python3"
  },
  "language_info": {
   "codemirror_mode": {
    "name": "ipython",
    "version": 3
   },
   "file_extension": ".py",
   "mimetype": "text/x-python",
   "name": "python",
   "nbconvert_exporter": "python",
   "pygments_lexer": "ipython3",
   "version": "3.8.8"
  }
 },
 "nbformat": 4,
 "nbformat_minor": 5
}
